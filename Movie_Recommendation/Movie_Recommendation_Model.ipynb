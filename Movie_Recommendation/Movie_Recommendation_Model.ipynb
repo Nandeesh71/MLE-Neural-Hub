{
 "cells": [
  {
   "cell_type": "code",
   "execution_count": 1,
   "id": "c830577c",
   "metadata": {},
   "outputs": [],
   "source": [
    "# Import required libraries for data processing and machine learning \n",
    "import numpy as np  # For numerical operations (optional for future use)\n",
    "import pandas as pd  # For handling and analyzing structured data\n",
    "import difflib  # For fuzzy matching of movie titles\n",
    "from sklearn.feature_extraction.text import TfidfVectorizer  # Convert text to feature vectors\n",
    "from sklearn.metrics.pairwise import cosine_similarity  # Measure similarity between vectors\n"
   ]
  },
  {
   "cell_type": "code",
   "execution_count": null,
   "id": "88665b15",
   "metadata": {},
   "outputs": [],
   "source": [
    "# Load the movie dataset from CSV\n",
    "movies_df = pd.read_csv(\"movies.csv\")"
   ]
  },
  {
   "cell_type": "code",
   "execution_count": 3,
   "id": "956518cf",
   "metadata": {},
   "outputs": [],
   "source": [
    "# Define the metadata columns used for content-based filtering\n",
    "feature_columns = [\"genres\", \"keywords\", \"tagline\", \"cast\", \"director\"]\n",
    "\n",
    "# Fill missing values in these columns with empty strings\n",
    "for column in feature_columns:\n",
    "    movies_df[column] = movies_df[column].fillna(\"\")"
   ]
  },
  {
   "cell_type": "code",
   "execution_count": 4,
   "id": "d6619461",
   "metadata": {},
   "outputs": [],
   "source": [
    "# Combine the selected metadata into a single string per movie\n",
    "combined_features_series = (\n",
    "    movies_df[\"genres\"] + \" \" +\n",
    "    movies_df[\"keywords\"] + \" \" +\n",
    "    movies_df[\"tagline\"] + \" \" +\n",
    "    movies_df[\"cast\"] + \" \" +\n",
    "    movies_df[\"director\"]\n",
    ")\n"
   ]
  },
  {
   "cell_type": "code",
   "execution_count": 5,
   "id": "7b2eea27",
   "metadata": {},
   "outputs": [],
   "source": [
    "# Convert the combined metadata into TF-IDF feature vectors\n",
    "tfidf_vectorizer = TfidfVectorizer()\n",
    "tfidf_matrix = tfidf_vectorizer.fit_transform(combined_features_series)"
   ]
  },
  {
   "cell_type": "code",
   "execution_count": 6,
   "id": "42dc778f",
   "metadata": {},
   "outputs": [],
   "source": [
    "# Compute cosine similarity between all movie vectors\n",
    "cosine_similarity_matrix = cosine_similarity(tfidf_matrix)"
   ]
  },
  {
   "cell_type": "code",
   "execution_count": 1,
   "id": "744e8ca5",
   "metadata": {},
   "outputs": [
    {
     "name": "stdout",
     "output_type": "stream",
     "text": [
      "iron man\n"
     ]
    }
   ],
   "source": [
    "# Prompt the user to enter a movie name\n",
    "user_input_title = input(\"🎬 Enter the movie name: \")\n",
    "print(user_input_title)"
   ]
  },
  {
   "cell_type": "code",
   "execution_count": 8,
   "id": "08bd6a63",
   "metadata": {},
   "outputs": [],
   "source": [
    "# Extract all titles and find the closest match\n",
    "all_movie_titles = movies_df[\"title\"].tolist()\n",
    "matching_titles = difflib.get_close_matches(user_input_title, all_movie_titles)\n"
   ]
  },
  {
   "cell_type": "code",
   "execution_count": null,
   "id": "b9487df5",
   "metadata": {},
   "outputs": [
    {
     "name": "stdout",
     "output_type": "stream",
     "text": [
      "\n",
      " 🔎 Best match found: Iron Man\n",
      "\n",
      "📽️ Based on your interest, here are some movies you may like:\n",
      "\n",
      "1: Iron Man 2\n",
      "2: Iron Man 3\n",
      "3: Avengers: Age of Ultron\n",
      "4: The Avengers\n",
      "5: Captain America: Civil War\n",
      "6: Captain America: The Winter Soldier\n",
      "7: Ant-Man\n"
     ]
    }
   ],
   "source": [
    "# If a matching title is found, recommend similar movies\n",
    "if matching_titles:\n",
    "    reference_title = matching_titles[0]\n",
    "    reference_index = movies_df[movies_df[\"title\"] == reference_title][\"index\"].values[0]\n",
    "    \n",
    "    similarity_scores = list(enumerate(cosine_similarity_matrix[reference_index]))\n",
    "    sorted_recommendations = sorted(similarity_scores, key=lambda x: x[1], reverse=True)\n",
    "\n",
    "    print(f\"\\n 🔎 Best match found: {reference_title}\")\n",
    "    print(\"\\n📽️ Based on your interest, here are some movies you may like:\\n\")\n",
    "\n",
    "    recommendation_count = 1\n",
    "    for idx, score in sorted_recommendations[1:]:\n",
    "        recommended_title = movies_df[movies_df[\"index\"] == idx][\"title\"].values[0]\n",
    "        if recommendation_count <= 7:\n",
    "            print(f\"{recommendation_count}: {recommended_title}\")\n",
    "            recommendation_count += 1\n",
    "\n",
    "# If no close match found, show a message\n",
    "else:\n",
    "    print(\"No close match found. Please try a different title.\")\n"
   ]
  }
 ],
 "metadata": {
  "kernelspec": {
   "display_name": "env",
   "language": "python",
   "name": "python3"
  },
  "language_info": {
   "codemirror_mode": {
    "name": "ipython",
    "version": 3
   },
   "file_extension": ".py",
   "mimetype": "text/x-python",
   "name": "python",
   "nbconvert_exporter": "python",
   "pygments_lexer": "ipython3",
   "version": "3.13.1"
  }
 },
 "nbformat": 4,
 "nbformat_minor": 5
}
